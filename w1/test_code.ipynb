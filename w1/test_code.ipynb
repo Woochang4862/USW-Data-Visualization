{
 "cells": [
  {
   "cell_type": "markdown",
   "metadata": {},
   "source": [
    "# 6w"
   ]
  },
  {
   "cell_type": "code",
   "execution_count": 2,
   "metadata": {},
   "outputs": [
    {
     "name": "stdout",
     "output_type": "stream",
     "text": [
      "python 3.11.7 | packaged by Anaconda, Inc. | (main, Dec 15 2023, 18:05:47) [MSC v.1916 64 bit (AMD64)]\n",
      "numpy 1.26.4\n",
      "pandas 2.1.4\n",
      "matplotlib 3.8.0\n",
      "seaborn 0.13.2\n"
     ]
    }
   ],
   "source": [
    "import sys\n",
    "print('python', sys.version)\n",
    "\n",
    "import numpy as np\n",
    "print('numpy', np.__version__)\n",
    "\n",
    "import pandas as pd\n",
    "print('pandas', pd.__version__)\n",
    "\n",
    "import matplotlib as mpl\n",
    "print('matplotlib', mpl.__version__)\n",
    "\n",
    "import matplotlib.pyplot as plt\n",
    "\n",
    "import seaborn as sns\n",
    "print('seaborn', sns.__version__)\n",
    "\n",
    "# # 결과 확인을 용이하게 하기 위한 코드\n",
    "from IPython.core.interactiveshell import InteractiveShell\n",
    "InteractiveShell.ast_node_interactivity = 'all'\n",
    "\n",
    "plt.rc( \"font\", family=\"Malgun Gothic\") # 한글표시 (window)\n",
    "plt.rc(\"axes\", unicode_minus=False) # x,y축 (-)부호 표시\n"
   ]
  },
  {
   "cell_type": "markdown",
   "metadata": {},
   "source": [
    "# Command Mode (press Esc to enable)\n",
    "- Enter : enter edit mode\n",
    "- Shift-Enter : run cell, select below\n",
    "- Ctrl-Enter : run cell\n",
    "- Alt-Enter : run cell, insert below\n",
    "- Y : to codeM : to markdown\n",
    "- R : to raw\n",
    "- 1 : to heading 1\n",
    "- 2 : to heading 2\n",
    "- 3 : to heading 3\n",
    "- 4 : to heading 4\n",
    "- 5 : to heading 5\n",
    "- 6 : to heading 6\n",
    "- Up : select cell above\n",
    "- K : select cell above\n",
    "- Down : select cell below\n",
    "- J : select cell below\n",
    "- A : insert cell above\n",
    "- B : insert cell below\n",
    "- X : cut selected cell\n",
    "- C : copy selected cell\n",
    "- Shift-V : paste cell above\n",
    "- V : paste cell below\n",
    "- Z : undo last cell deletion\n",
    "- D,D : delete selected cell\n",
    "- Shift-M : merge cell below\n",
    "- S : Save and Checkpoint\n",
    "- Ctrl-S : Save and Checkpoint\n",
    "- L : toggle line numbers\n",
    "- O : toggle output\n",
    "- Shift-O : toggle output scrolling\n",
    "- Esc : close pager\n",
    "- Q : close pager\n",
    "- H : show keyboard shortcut help dialog\n",
    "- I,I : interrupt kernel\n",
    "- 0,0 : restart kernel\n",
    "- Space : scroll down\n",
    "- Shift-Space : scroll up\n",
    "- Shift : ignore\n",
    "# Edit Mode (press Enter to enable)\n",
    "- Tab : code completion or indent\n",
    "- Shift-Tab : tooltip\n",
    "- Ctrl-] : indent\n",
    "- Ctrl-[ : dedent\n",
    "- Ctrl-A : select all\n",
    "- Ctrl-Z : undo\n",
    "- Ctrl-Shift-Z : redo\n",
    "- Ctrl-Y : redo\n",
    "- Ctrl-Home : go to cell start\n",
    "- Ctrl-Up : go to cell start\n",
    "- Ctrl-End : go to cell end\n",
    "- Ctrl-Down : go to cell end\n",
    "- Ctrl-Left : go one word left\n",
    "- Ctrl-Right : go one word right\n",
    "- Ctrl-Backspace : delete word before\n",
    "- Ctrl-Delete : delete word after\n",
    "- Esc : command mode\n",
    "- Ctrl-M : command mode\n",
    "- Shift-Enter : run cell, select below\n",
    "- Ctrl-Enter : run cell\n",
    "- Alt-Enter : run cell, insert below\n",
    "- Ctrl-Shift-Subtract : split cell\n",
    "- Ctrl-Shift-- : split cell\n",
    "- Ctrl-S : Save and Checkpoint\n",
    "- Up : move cursor up or previous cell\n",
    "- Down : move cursor down or next cell\n",
    "- Shift : ignore"
   ]
  },
  {
   "cell_type": "code",
   "execution_count": 2,
   "metadata": {},
   "outputs": [
    {
     "data": {
      "text/plain": [
       "'/Users/jeong-woochang/USW-Data-Visualization/w1'"
      ]
     },
     "execution_count": 2,
     "metadata": {},
     "output_type": "execute_result"
    }
   ],
   "source": [
    "pwd"
   ]
  },
  {
   "cell_type": "code",
   "execution_count": null,
   "metadata": {},
   "outputs": [],
   "source": []
  }
 ],
 "metadata": {
  "kernelspec": {
   "display_name": "Python 3 (ipykernel)",
   "language": "python",
   "name": "python3"
  },
  "language_info": {
   "codemirror_mode": {
    "name": "ipython",
    "version": 3
   },
   "file_extension": ".py",
   "mimetype": "text/x-python",
   "name": "python",
   "nbconvert_exporter": "python",
   "pygments_lexer": "ipython3",
   "version": "3.11.7"
  },
  "toc": {
   "base_numbering": 1,
   "nav_menu": {},
   "number_sections": true,
   "sideBar": true,
   "skip_h1_title": false,
   "title_cell": "Table of Contents",
   "title_sidebar": "Contents",
   "toc_cell": false,
   "toc_position": {
    "height": "calc(100% - 180px)",
    "left": "10px",
    "top": "150px",
    "width": "165px"
   },
   "toc_section_display": true,
   "toc_window_display": true
  },
  "varInspector": {
   "cols": {
    "lenName": 16,
    "lenType": 16,
    "lenVar": 40
   },
   "kernels_config": {
    "python": {
     "delete_cmd_postfix": "",
     "delete_cmd_prefix": "del ",
     "library": "var_list.py",
     "varRefreshCmd": "print(var_dic_list())"
    },
    "r": {
     "delete_cmd_postfix": ") ",
     "delete_cmd_prefix": "rm(",
     "library": "var_list.r",
     "varRefreshCmd": "cat(var_dic_list()) "
    }
   },
   "types_to_exclude": [
    "module",
    "function",
    "builtin_function_or_method",
    "instance",
    "_Feature"
   ],
   "window_display": false
  }
 },
 "nbformat": 4,
 "nbformat_minor": 2
}
