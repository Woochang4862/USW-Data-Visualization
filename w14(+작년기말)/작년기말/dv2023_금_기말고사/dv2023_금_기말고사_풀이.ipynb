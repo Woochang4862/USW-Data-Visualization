{
 "cells": [
  {
   "cell_type": "code",
   "execution_count": 1,
   "metadata": {},
   "outputs": [
    {
     "name": "stdout",
     "output_type": "stream",
     "text": [
      "python 3.11.3 | packaged by Anaconda, Inc. | (main, Apr 19 2023, 23:46:34) [MSC v.1916 64 bit (AMD64)]\n",
      "numpy 1.24.3\n",
      "pandas 1.5.3\n",
      "matplotlib 3.7.1\n"
     ]
    }
   ],
   "source": [
    "import sys\n",
    "print('python', sys.version)\n",
    "\n",
    "import numpy as np\n",
    "print('numpy', np.__version__)\n",
    "\n",
    "import pandas as pd\n",
    "print('pandas', pd.__version__)\n",
    "\n",
    "import matplotlib as mpl\n",
    "print('matplotlib', mpl.__version__)\n",
    "\n",
    "import matplotlib.pyplot as plt\n",
    "\n",
    "# # 결과 확인을 용이하게 하기 위한 코드\n",
    "from IPython.core.interactiveshell import InteractiveShell\n",
    "InteractiveShell.ast_node_interactivity = 'all'\n",
    "\n",
    "## 한글 주석을 위해 추가\n",
    "from matplotlib import font_manager, rc\n",
    "font_name = font_manager.FontProperties(fname=\"c:/Windows/Fonts/malgun.ttf\").get_name()\n",
    "rc('font', family=font_name)\n",
    "\n",
    "## minus sign tick 오류 방지를 위해 추가\n",
    "import matplotlib as mpl\n",
    "mpl.rcParams['axes.unicode_minus']=False"
   ]
  },
  {
   "cell_type": "code",
   "execution_count": 2,
   "metadata": {},
   "outputs": [],
   "source": [
    "##################################################\n",
    "############### 문제 풀기 전 주의사항 ##############\n",
    "##################################################\n",
    "\n",
    "# 시험시간 내 인터넷 사용 금지, 시험문제 다운로드, 업로드 시에만 가능\n",
    "# (시험 중, 핸드폰이나 인터넷 사용을 포함한 부정행위 적발시 0점 처리).\n",
    "\n",
    "# ipynb, html 시험 파일, 데이터를 모두 다운 받고,\n",
    "# ipynb 시험 파일은 파일명 수정 -> dv금_20181234_홍길동.ipynb.\n",
    "\n",
    "# html 파일의 실행결과를 참고하여, ipynb 파일의 #=== 코드작성 ===# 부분에 코드를 작성하여\n",
    "# 프로그램을 완성 (ipynb파일의 실행결과는 코드 작성과정에서 사라질 수 있음).\n",
    "\n",
    "# 맨 위의 셀을 우선 실행.\n",
    "# 랜덤 값을 입력으로하는 문제는 주어진 실행결과와 다른 실행결과가 나올 수 있음.\n",
    "# 문제에 주어진 코드는 수정 불가.\n",
    "\n",
    "# 시험 도중 anaconda prompt (검은창) 지우지 말것.\n",
    "# 갑자기 컴퓨터에 문제가 생길수 있으니, 시험 중간중간에 파일 저장 (crtl+s) 할 것.\n",
    "\n",
    "# 시험이 끝나면 실행결과를 모두 확인하고 난 후에, 저장 하고 제출\n",
    "# (작성한 ipynb 시험 파일(dv금_20181234_홍길동.ipynb)을  \"캔버스 --> 과제 --> 기말고사\" 에 업로드).\n",
    "\n"
   ]
  },
  {
   "cell_type": "markdown",
   "metadata": {},
   "source": [
    "## 문제1"
   ]
  },
  {
   "cell_type": "code",
   "execution_count": 2,
   "metadata": {},
   "outputs": [
    {
     "data": {
      "image/png": "[encoded data removed]",
      "text/plain": [
       "<Figure size 360x240 with 1 Axes>"
      ]
     },
     "metadata": {},
     "output_type": "display_data"
    }
   ],
   "source": [
    "# 1) 0 < X < 4의 범위에서 Y=np.sin(X**2-np.pi) 함수를 plot 하시오 (1점)\n",
    "# 2) 해당 함수식을 레이텍을 활용하여 결과 그림과 같이 title에 추가하시오 (2점)\n",
    "\n",
    "fig=plt.figure(figsize=(3,2), dpi=120)\n",
    "ax =fig.subplots()\n",
    "\n",
    "#=== 코드작성 ===#\n",
    "X=np.linspace(0,4,100)\n",
    "Y=np.sin(X**2-np.pi)\n",
    "_=ax.plot(X,Y)\n",
    "\n",
    "_=ax.set_title('$y=\\\\sin(x^2-\\\\pi)$', fontsize=16)\n",
    "#=== 코드작성 끝===#"
   ]
  },
  {
   "cell_type": "markdown",
   "metadata": {},
   "source": [
    "## 문제2"
   ]
  },
  {
   "cell_type": "code",
   "execution_count": 4,
   "metadata": {},
   "outputs": [
    {
     "data": {
      "text/html": [
       "<div>\n",
       "<style scoped>\n",
       "    .dataframe tbody tr th:only-of-type {\n",
       "        vertical-align: middle;\n",
       "    }\n",
       "\n",
       "    .dataframe tbody tr th {\n",
       "        vertical-align: top;\n",
       "    }\n",
       "\n",
       "    .dataframe thead th {\n",
       "        text-align: right;\n",
       "    }\n",
       "</style>\n",
       "<table border=\"1\" class=\"dataframe\">\n",
       "  <thead>\n",
       "    <tr style=\"text-align: right;\">\n",
       "      <th></th>\n",
       "      <th>a</th>\n",
       "      <th>b</th>\n",
       "      <th>c</th>\n",
       "      <th>d</th>\n",
       "      <th>e</th>\n",
       "      <th>f</th>\n",
       "    </tr>\n",
       "  </thead>\n",
       "  <tbody>\n",
       "    <tr>\n",
       "      <th>A</th>\n",
       "      <td>1</td>\n",
       "      <td>2</td>\n",
       "      <td>3</td>\n",
       "      <td>4</td>\n",
       "      <td>5</td>\n",
       "      <td>6</td>\n",
       "    </tr>\n",
       "    <tr>\n",
       "      <th>B</th>\n",
       "      <td>7</td>\n",
       "      <td>8</td>\n",
       "      <td>9</td>\n",
       "      <td>10</td>\n",
       "      <td>11</td>\n",
       "      <td>12</td>\n",
       "    </tr>\n",
       "    <tr>\n",
       "      <th>C</th>\n",
       "      <td>13</td>\n",
       "      <td>14</td>\n",
       "      <td>15</td>\n",
       "      <td>16</td>\n",
       "      <td>17</td>\n",
       "      <td>18</td>\n",
       "    </tr>\n",
       "    <tr>\n",
       "      <th>D</th>\n",
       "      <td>10</td>\n",
       "      <td>5</td>\n",
       "      <td>10</td>\n",
       "      <td>20</td>\n",
       "      <td>10</td>\n",
       "      <td>20</td>\n",
       "    </tr>\n",
       "  </tbody>\n",
       "</table>\n",
       "</div>"
      ],
      "text/plain": [
       "    a   b   c   d   e   f\n",
       "A   1   2   3   4   5   6\n",
       "B   7   8   9  10  11  12\n",
       "C  13  14  15  16  17  18\n",
       "D  10   5  10  20  10  20"
      ]
     },
     "execution_count": 4,
     "metadata": {},
     "output_type": "execute_result"
    },
    {
     "data": {
      "image/png": "[encoded data removed]",
      "text/plain": [
       "<Figure size 840x240 with 3 Axes>"
      ]
     },
     "metadata": {},
     "output_type": "display_data"
    }
   ],
   "source": [
    "# 주어진 df는 a,b,c,d,e,f column을 가지고 있다.\n",
    "# 1) 이 중, cols에 주어진 세 개의 column을 각각 axes에 차례로 나타내시오 (1점)\n",
    "# 2) 각 column이름을 title에 결과 그림과 같이 나타내시오 (2점)\n",
    "\n",
    "# 조건1) for loop 사용\n",
    "# 조건2) 채점시 cols 리스트의 값 변경 가능 (개수는 그대로)\n",
    "\n",
    "fig=plt.figure(figsize=(7,2), dpi=120)\n",
    "axs=fig.subplots(1,3)\n",
    "\n",
    "cols=['d','a','b']\n",
    "\n",
    "df = pd.DataFrame(np.arange(1,25).reshape(4,6), columns=list('abcdef'), index=list('ABCD'))\n",
    "df.loc['D']=[10,5,10,20,10,20]\n",
    "df\n",
    "\n",
    "#=== 코드작성 ===#\n",
    "for ax, col in zip(axs, cols):\n",
    "    sr1=df[col]\n",
    "    _=ax.bar(sr1.index, sr1)\n",
    "    _=ax.set_title(\"column: {}\".format(col))\n",
    "#=== 코드작성 끝 ===#\n",
    "\n",
    "fig.tight_layout()"
   ]
  },
  {
   "cell_type": "markdown",
   "metadata": {},
   "source": [
    "## 문제3"
   ]
  },
  {
   "cell_type": "code",
   "execution_count": 5,
   "metadata": {},
   "outputs": [
    {
     "data": {
      "image/png": "[encoded data removed]",
      "text/plain": [
       "<Figure size 680x510 with 1 Axes>"
      ]
     },
     "metadata": {},
     "output_type": "display_data"
    }
   ],
   "source": [
    "# xtick(1점)과 ytick(2점)을 결과 그림과 같이 나타내시오\n",
    "\n",
    "# 힌트1) tick의 길이는 default값 사용\n",
    "# 힌트2) ytick의 방향 주의\n",
    "\n",
    "fig=plt.figure(figsize=(4,3), dpi=170)\n",
    "ax=fig.subplots()\n",
    "\n",
    "#=== 코드작성 ===#\n",
    "_=ax.set_xticks(np.arange(0,2.1,0.2))\n",
    "_=ax.set_yticks(np.arange(0,2.1,0.5))\n",
    "_=ax.tick_params(axis='y', color='r', direction='in')\n",
    "_=ax.tick_params(axis='x', labelcolor='b')\n",
    "#=== 코드작성 끝===#\n",
    "\n",
    "_=ax.set_ylim(0,2.1)\n",
    "_=ax.set_xlim(0,2.1)"
   ]
  },
  {
   "cell_type": "markdown",
   "metadata": {},
   "source": [
    "## 문제4"
   ]
  },
  {
   "cell_type": "code",
   "execution_count": 6,
   "metadata": {},
   "outputs": [
    {
     "data": {
      "image/png": "[encoded data removed]",
      "text/plain": [
       "<Figure size 600x600 with 1 Axes>"
      ]
     },
     "metadata": {},
     "output_type": "display_data"
    }
   ],
   "source": [
    "# 1) 그러진 사각형의 왼쪽 아래에 빨간 점을 scatter 하시오 (1점)\n",
    "# 2) 빨간 점의 왼쪽 아래에 점의 좌표를 넣으시오 (2점)\n",
    "\n",
    "# 조건1) 채점시, x1,x2,y1,y2 변경 가능\n",
    "# 조건2) 점에 닿지 않도록 하시오\n",
    "# 힌트1) 빨간점 scatter시 s=10\n",
    "\n",
    "fig=plt.figure(figsize=(4,4), dpi=150)\n",
    "ax1=fig.subplots()\n",
    "\n",
    "x1=4.8\n",
    "x2=5.2\n",
    "y1=1.8\n",
    "y2=2.2\n",
    "\n",
    "_=ax1.plot([x1,x1,x2,x2,x1],[y1,y2,y2,y1,y1])\n",
    "_=ax1.set_xlim(x1-0.3,x2+0.3)\n",
    "_=ax1.set_ylim(y1-0.5,y2+0.5)\n",
    "\n",
    "# 코드작성\n",
    "_=ax1.scatter(x1,y1,s=10,color='r')\n",
    "_=ax1.text(x1,y1,'({},{})'.format(x1,y1),ha='right',va='top')\n",
    "# 코드작성 끝"
   ]
  },
  {
   "cell_type": "markdown",
   "metadata": {},
   "source": [
    "## 문제5"
   ]
  },
  {
   "cell_type": "code",
   "execution_count": 7,
   "metadata": {},
   "outputs": [
    {
     "data": {
      "text/plain": [
       "array([ 5, 13,  9,  4, 23])"
      ]
     },
     "execution_count": 7,
     "metadata": {},
     "output_type": "execute_result"
    },
    {
     "data": {
      "image/png": "[encoded data removed]",
      "text/plain": [
       "<Figure size 720x240 with 1 Axes>"
      ]
     },
     "metadata": {},
     "output_type": "display_data"
    }
   ],
   "source": [
    "# X에는 1~29까지의 숫자중에 5개가 랜덤하게 부여된다 (중복 값 없음).\n",
    "# X의 각 점을 y=0인 라인에 scatter 하시오 (1점)\n",
    "# 가장 작은 점의 왼쪽에 'Min', 가장 큰 점의 오른쪽에 'Max'라는 문구를 넣으시오 (2점)\n",
    "\n",
    "# 조건1) 문자를 넣을때 점을 가리지 않도록 하시오\n",
    "# 힌트1) np.max, np.min 함수 사용\n",
    "\n",
    "fig=plt.figure(figsize=(6,2), dpi=120)\n",
    "ax=fig.subplots()\n",
    "\n",
    "X=np.random.choice(range(1,30), size=5, replace=False)\n",
    "X\n",
    "\n",
    "#=== 코드작성 ===#\n",
    "_=ax.scatter(X,[0]*5)\n",
    "\n",
    "mx=np.max(X)\n",
    "mn=np.min(X)\n",
    "_=ax.text(mn-0.5,0,'Min',va='center',ha='right', fontsize=13)\n",
    "_=ax.text(mx+0.5,0,'Max',va='center',ha='left', fontsize=13)\n",
    "#=== 코드작성 끝 ===#\n",
    "\n",
    "_=ax.set_xticks(X)\n",
    "_=ax.set_yticks([-1,0,1])\n",
    "_=ax.grid(axis='y')\n",
    "_=ax.set_xlim(np.min(X)-5, np.max(X)+5)"
   ]
  },
  {
   "cell_type": "markdown",
   "metadata": {},
   "source": [
    "## 문제6"
   ]
  },
  {
   "cell_type": "code",
   "execution_count": 8,
   "metadata": {},
   "outputs": [
    {
     "data": {
      "image/png": "[encoded data removed]",
      "text/plain": [
       "<Figure size 600x360 with 1 Axes>"
      ]
     },
     "metadata": {},
     "output_type": "display_data"
    }
   ],
   "source": [
    "# 주어진 data를 bar로 나타내는데 원래 값의 50%만 bar로 나타내시오 (1점)\n",
    "# 각 bar위에 원래 값을 text로 넣으시오 (2점)\n",
    "\n",
    "# 조건1) text를 넣을 시 for loop을 사용하시오\n",
    "\n",
    "fig=plt.figure(figsize=(5,3), dpi=120)\n",
    "ax1=fig.subplots()\n",
    "\n",
    "data=np.array([100,50,200,20])\n",
    "X=range(4)\n",
    "\n",
    "#=== 코드작성 ===#\n",
    "data2=data*0.5\n",
    "_=ax1.bar(range(4),data2)\n",
    "\n",
    "for x, d2, d in zip(X, data2, data):\n",
    "    _=ax1.text(x,d2,d, ha='center', va='bottom', fontsize=12)\n",
    "#=== 코드작성 끝 ===#\n",
    "\n",
    "_=ax1.set_yticks(np.arange(0,120,10))\n",
    "_=ax1.grid(axis='y')"
   ]
  },
  {
   "cell_type": "markdown",
   "metadata": {},
   "source": [
    "## 문제7"
   ]
  },
  {
   "cell_type": "code",
   "execution_count": 9,
   "metadata": {},
   "outputs": [
    {
     "data": {
      "text/html": [
       "<div>\n",
       "<style scoped>\n",
       "    .dataframe tbody tr th:only-of-type {\n",
       "        vertical-align: middle;\n",
       "    }\n",
       "\n",
       "    .dataframe tbody tr th {\n",
       "        vertical-align: top;\n",
       "    }\n",
       "\n",
       "    .dataframe thead th {\n",
       "        text-align: right;\n",
       "    }\n",
       "</style>\n",
       "<table border=\"1\" class=\"dataframe\">\n",
       "  <thead>\n",
       "    <tr style=\"text-align: right;\">\n",
       "      <th></th>\n",
       "      <th>1st</th>\n",
       "      <th>2nd</th>\n",
       "      <th>3rd</th>\n",
       "      <th>4th</th>\n",
       "    </tr>\n",
       "  </thead>\n",
       "  <tbody>\n",
       "    <tr>\n",
       "      <th>A</th>\n",
       "      <td>4</td>\n",
       "      <td>3</td>\n",
       "      <td>2</td>\n",
       "      <td>1</td>\n",
       "    </tr>\n",
       "    <tr>\n",
       "      <th>B</th>\n",
       "      <td>1</td>\n",
       "      <td>2</td>\n",
       "      <td>3</td>\n",
       "      <td>4</td>\n",
       "    </tr>\n",
       "  </tbody>\n",
       "</table>\n",
       "</div>"
      ],
      "text/plain": [
       "   1st  2nd  3rd  4th\n",
       "A    4    3    2    1\n",
       "B    1    2    3    4"
      ]
     },
     "execution_count": 9,
     "metadata": {},
     "output_type": "execute_result"
    },
    {
     "data": {
      "image/png": "[encoded data removed]",
      "text/plain": [
       "<Figure size 600x300 with 1 Axes>"
      ]
     },
     "metadata": {},
     "output_type": "display_data"
    }
   ],
   "source": [
    "# 주어진 dataframe data를 결과 그림과 같이 다중 bar 그래프로 그리시오 (1점)\n",
    "# 레전드를 axes의 위 한 가운데에 결과 그림과 같이 나타내시오 (2점)\n",
    "\n",
    "# 조건1) for loop을 사용하여 bar 함수를 호출\n",
    "\n",
    "fig=plt.figure(figsize=(6,3), dpi=100)\n",
    "ax1=fig.subplots()\n",
    "\n",
    "data = pd.DataFrame(np.array([4,3,2,1,1,2,3,4]).reshape(2,4), columns=['1st','2nd','3rd','4th'], index=['A','B'])\n",
    "data\n",
    "\n",
    "## 코드작성\n",
    "X=np.arange(2)\n",
    "w1=0.2\n",
    "\n",
    "for ii, col in enumerate(data.columns):\n",
    "    _=ax1.bar(X+w1*ii, data[col], width=w1, label=col)\n",
    "\n",
    "_=ax1.legend(bbox_to_anchor=(0.5,1), loc='lower center', ncol=2)\n",
    "## 코드작성 끝\n",
    "\n",
    "_=ax1.set_xticks(X+w1*1.5)\n",
    "_=ax1.set_xticklabels(data.index, fontsize=16)"
   ]
  },
  {
   "cell_type": "markdown",
   "metadata": {},
   "source": [
    "## 문제8"
   ]
  },
  {
   "cell_type": "code",
   "execution_count": 10,
   "metadata": {},
   "outputs": [
    {
     "data": {
      "image/png": "[encoded data removed]",
      "text/plain": [
       "<Figure size 700x500 with 1 Axes>"
      ]
     },
     "metadata": {},
     "output_type": "display_data"
    }
   ],
   "source": [
    "# 주어진 d2를 bar로 나타내었다.\n",
    "# d2중 가장 높은 bar와 두번째로 높은 bar의 사이에 빨간 점선을 추가하시오 (1점)\n",
    "# 가장 높은 bar의 꼭대기에서 두번째로 높은 bar의 높이까지 화살표를 추가하시오 (1점)\n",
    "# 차이를 화살표의 가운데에 나타내시오 (1점)\n",
    "\n",
    "# 조건1) d2는 채점시 변경 가능\n",
    "\n",
    "fig=plt.figure(figsize=(7,5), dpi=100)\n",
    "ax1=fig.subplots()\n",
    "\n",
    "d2=pd.Series([1,20,5,4,15,2])\n",
    "_=ax1.bar(d2.index, d2, color='y')\n",
    "\n",
    "## 코드작성\n",
    "d3=d2.sort_values(ascending=False)\n",
    "x1, y1=d3.index[0], d3.iloc[0] \n",
    "x2, y2=d3.index[1], d3.iloc[1]\n",
    "\n",
    "_=ax1.plot([x1,x2],[y2,y2], 'r:')\n",
    "_=ax1.annotate('',(x1,y2),(x1,y1),arrowprops={'arrowstyle':'<|-|>'})\n",
    "_=ax1.text(x1+0.05,(y2+y1)/2,'d:{}'.format(y1-y2),ha='left', va='center',fontsize=14)\n",
    "## 코드작성 끝"
   ]
  },
  {
   "cell_type": "markdown",
   "metadata": {},
   "source": [
    "## 문제9"
   ]
  },
  {
   "cell_type": "code",
   "execution_count": 11,
   "metadata": {},
   "outputs": [
    {
     "data": {
      "image/png": "[encoded data removed]",
      "text/plain": [
       "<Figure size 720x480 with 4 Axes>"
      ]
     },
     "metadata": {},
     "output_type": "display_data"
    }
   ],
   "source": [
    "# 아래와 같이 4개의 axes를 생성하시오 (3점)\n",
    "\n",
    "fig=plt.figure(figsize=(6,4), dpi=120)\n",
    "\n",
    "## 코드작성\n",
    "ax1=fig.add_subplot(2,1,1)\n",
    "ax2=fig.add_subplot(4,1,3)\n",
    "ax3=fig.add_subplot(4,4,14)\n",
    "ax3=fig.add_subplot(4,4,15)\n",
    "## 코드작성 끝\n",
    "\n",
    "fig.tight_layout()\n",
    "\n"
   ]
  },
  {
   "cell_type": "markdown",
   "metadata": {},
   "source": [
    "## 문제10"
   ]
  },
  {
   "cell_type": "code",
   "execution_count": 17,
   "metadata": {},
   "outputs": [
    {
     "data": {
      "text/html": [
       "<div>\n",
       "<style scoped>\n",
       "    .dataframe tbody tr th:only-of-type {\n",
       "        vertical-align: middle;\n",
       "    }\n",
       "\n",
       "    .dataframe tbody tr th {\n",
       "        vertical-align: top;\n",
       "    }\n",
       "\n",
       "    .dataframe thead th {\n",
       "        text-align: right;\n",
       "    }\n",
       "</style>\n",
       "<table border=\"1\" class=\"dataframe\">\n",
       "  <thead>\n",
       "    <tr style=\"text-align: right;\">\n",
       "      <th></th>\n",
       "      <th>name</th>\n",
       "      <th>score</th>\n",
       "      <th>group</th>\n",
       "    </tr>\n",
       "  </thead>\n",
       "  <tbody>\n",
       "    <tr>\n",
       "      <th>0</th>\n",
       "      <td>a</td>\n",
       "      <td>7</td>\n",
       "      <td>A</td>\n",
       "    </tr>\n",
       "    <tr>\n",
       "      <th>1</th>\n",
       "      <td>b</td>\n",
       "      <td>6</td>\n",
       "      <td>A</td>\n",
       "    </tr>\n",
       "    <tr>\n",
       "      <th>2</th>\n",
       "      <td>c</td>\n",
       "      <td>4</td>\n",
       "      <td>B</td>\n",
       "    </tr>\n",
       "    <tr>\n",
       "      <th>3</th>\n",
       "      <td>d</td>\n",
       "      <td>5</td>\n",
       "      <td>A</td>\n",
       "    </tr>\n",
       "    <tr>\n",
       "      <th>4</th>\n",
       "      <td>e</td>\n",
       "      <td>4</td>\n",
       "      <td>B</td>\n",
       "    </tr>\n",
       "    <tr>\n",
       "      <th>5</th>\n",
       "      <td>f</td>\n",
       "      <td>2</td>\n",
       "      <td>A</td>\n",
       "    </tr>\n",
       "  </tbody>\n",
       "</table>\n",
       "</div>"
      ],
      "text/plain": [
       "  name  score group\n",
       "0    a      7     A\n",
       "1    b      6     A\n",
       "2    c      4     B\n",
       "3    d      5     A\n",
       "4    e      4     B\n",
       "5    f      2     A"
      ]
     },
     "execution_count": 17,
     "metadata": {},
     "output_type": "execute_result"
    },
    {
     "data": {
      "image/png": "[encoded data removed]",
      "text/plain": [
       "<Figure size 720x360 with 1 Axes>"
      ]
     },
     "metadata": {},
     "output_type": "display_data"
    }
   ],
   "source": [
    "# 주어진 df의 score를 아래와 같이 group별로 색깔을 다르게 하여 bar graph로 나타내시오 (2점)\n",
    "# group에 대한 legned를 넣으시오 (위치는 관계 없음) (1점)\n",
    "\n",
    "# 조건1) A그룹 bar: color='g', B그룹 bar: color='y'\n",
    "# 조건2) bar 함수 호출시 for loop 사용 (반복 횟수: 2번)\n",
    "\n",
    "fig=plt.figure(figsize=(6,3), dpi=120)\n",
    "ax=fig.subplots()\n",
    "\n",
    "df=pd.DataFrame({'name':list('abcdef'), 'score':[7,6,4,5,4,2], 'group':list('AABABA')})\n",
    "df\n",
    "\n",
    "# 코드작성\n",
    "for gp, col in zip(['A','B'], ['g','y']):\n",
    "    df2=df.loc[df['group']==gp]\n",
    "    _=ax.bar(df2.index, df2['score'], color=col, label=gp)\n",
    "\n",
    "_=ax.legend()\n",
    "# 코드작성 끝\n",
    "\n",
    "_=ax.set_xticks(range(6))\n",
    "_=ax.set_xticklabels(df['name'])"
   ]
  },
  {
   "cell_type": "markdown",
   "metadata": {},
   "source": [
    "## 문제11"
   ]
  },
  {
   "cell_type": "code",
   "execution_count": 13,
   "metadata": {},
   "outputs": [
    {
     "data": {
      "image/png": "[encoded data removed]",
      "text/plain": [
       "<Figure size 720x360 with 1 Axes>"
      ]
     },
     "metadata": {},
     "output_type": "display_data"
    }
   ],
   "source": [
    "# 1학년 남, 2학년 남, 1학년 여, 2학년 여 학생들의 성적이 각각 m1, m2, f1, f2에 담겨져 있다.\n",
    "# 같은 학년의 성별 성적 분포를 비교하기 위해 결과그림과 같은 그림을 그리시오\n",
    "# 학년 구분은 x tick으로 하고,\n",
    "# 성별 구분은 flier의 특징으로 하시오 (남: {'marker':'o', 'markerfacecolor':'b'}, 여: {'marker':'s', 'markerfacecolor':'g'})\n",
    "\n",
    "# - boxplot (1점)\n",
    "# - 레전드 (위치는 아래 가운데로 고정) (2점)\n",
    "\n",
    "fig=plt.figure(figsize=(6,3), dpi=120)\n",
    "ax=fig.subplots()\n",
    "\n",
    "m1=np.random.normal(0,2,2000)\n",
    "m2=np.random.normal(3,2,2000)\n",
    "f1=np.random.normal(4,2,2000)\n",
    "f2=np.random.normal(1,2,2000)\n",
    "\n",
    "## 코드작성\n",
    "bp1=ax.boxplot([m1,m2],positions=[1,3], widths=0.5,flierprops = {'marker':'o', 'markerfacecolor':'b'})\n",
    "bp2=ax.boxplot([f1,f2],positions=[1.5,3.5], widths=0.5,flierprops = {'marker':'s', 'markerfacecolor':'g'})\n",
    "\n",
    "_=ax.legend(handles=(bp1[\"fliers\"][0],bp2[\"fliers\"][0]), labels=['남자','여자'], loc='lower center')\n",
    "## 코드작성 끝\n",
    "\n",
    "_=ax.set_xticks([1.25, 3.25])\n",
    "_=ax.set_xticklabels(['1학년', '2학년'])"
   ]
  },
  {
   "cell_type": "markdown",
   "metadata": {},
   "source": [
    "## 문제12"
   ]
  },
  {
   "cell_type": "code",
   "execution_count": 14,
   "metadata": {},
   "outputs": [
    {
     "data": {
      "text/html": [
       "<div>\n",
       "<style scoped>\n",
       "    .dataframe tbody tr th:only-of-type {\n",
       "        vertical-align: middle;\n",
       "    }\n",
       "\n",
       "    .dataframe tbody tr th {\n",
       "        vertical-align: top;\n",
       "    }\n",
       "\n",
       "    .dataframe thead th {\n",
       "        text-align: right;\n",
       "    }\n",
       "</style>\n",
       "<table border=\"1\" class=\"dataframe\">\n",
       "  <thead>\n",
       "    <tr style=\"text-align: right;\">\n",
       "      <th></th>\n",
       "      <th>상점</th>\n",
       "      <th>시군구명</th>\n",
       "    </tr>\n",
       "  </thead>\n",
       "  <tbody>\n",
       "    <tr>\n",
       "      <th>0</th>\n",
       "      <td>스타벅스</td>\n",
       "      <td>종로구</td>\n",
       "    </tr>\n",
       "    <tr>\n",
       "      <th>1</th>\n",
       "      <td>스타벅스</td>\n",
       "      <td>서초구</td>\n",
       "    </tr>\n",
       "    <tr>\n",
       "      <th>2</th>\n",
       "      <td>스타벅스</td>\n",
       "      <td>영등포구</td>\n",
       "    </tr>\n",
       "    <tr>\n",
       "      <th>3</th>\n",
       "      <td>이디야</td>\n",
       "      <td>강남구</td>\n",
       "    </tr>\n",
       "    <tr>\n",
       "      <th>4</th>\n",
       "      <td>이디야</td>\n",
       "      <td>마포구</td>\n",
       "    </tr>\n",
       "    <tr>\n",
       "      <th>...</th>\n",
       "      <td>...</td>\n",
       "      <td>...</td>\n",
       "    </tr>\n",
       "    <tr>\n",
       "      <th>275</th>\n",
       "      <td>스타벅스</td>\n",
       "      <td>종로구</td>\n",
       "    </tr>\n",
       "    <tr>\n",
       "      <th>276</th>\n",
       "      <td>스타벅스</td>\n",
       "      <td>강남구</td>\n",
       "    </tr>\n",
       "    <tr>\n",
       "      <th>277</th>\n",
       "      <td>이디야</td>\n",
       "      <td>강남구</td>\n",
       "    </tr>\n",
       "    <tr>\n",
       "      <th>278</th>\n",
       "      <td>이디야</td>\n",
       "      <td>서초구</td>\n",
       "    </tr>\n",
       "    <tr>\n",
       "      <th>279</th>\n",
       "      <td>이디야</td>\n",
       "      <td>강남구</td>\n",
       "    </tr>\n",
       "  </tbody>\n",
       "</table>\n",
       "<p>280 rows × 2 columns</p>\n",
       "</div>"
      ],
      "text/plain": [
       "       상점  시군구명\n",
       "0    스타벅스   종로구\n",
       "1    스타벅스   서초구\n",
       "2    스타벅스  영등포구\n",
       "3     이디야   강남구\n",
       "4     이디야   마포구\n",
       "..    ...   ...\n",
       "275  스타벅스   종로구\n",
       "276  스타벅스   강남구\n",
       "277   이디야   강남구\n",
       "278   이디야   서초구\n",
       "279   이디야   강남구\n",
       "\n",
       "[280 rows x 2 columns]"
      ]
     },
     "execution_count": 14,
     "metadata": {},
     "output_type": "execute_result"
    },
    {
     "data": {
      "image/png": "[encoded data removed]",
      "text/plain": [
       "<Figure size 750x300 with 1 Axes>"
      ]
     },
     "metadata": {},
     "output_type": "display_data"
    }
   ],
   "source": [
    "# 스타벅스와 이디야 각 상점의 구 정보를 담은 df가 있다 (총 6개의 구가 있음).\n",
    "# 구 별로 스타벅스와 이디야의 매장수를 결과그림과 같이 다중바그래프로 그리시오\n",
    "# - 다중바그래프 (2점)\n",
    "# - 레전드 (1점)\n",
    "# - xtick label (1점)\n",
    "\n",
    "# 힌트1) series의 index 순서 주의 -> sort_index() 사용\n",
    "# 힌트2) bar graph: width=0.3\n",
    "\n",
    "fig=plt.figure(figsize=(5, 2), dpi=150)\n",
    "ax=fig.subplots()\n",
    "\n",
    "df = pd.read_csv('data/fri_p12.txt',sep='\\t')\n",
    "df=df.drop(columns=['시도명','위도','경도'])\n",
    "df\n",
    "\n",
    "## 코드작성\n",
    "df_sb=df.loc[df['상점']=='스타벅스']\n",
    "df_ed=df.loc[df['상점']=='이디야']\n",
    "\n",
    "sb_cnt=df_sb['시군구명'].value_counts().sort_index()\n",
    "ed_cnt=df_ed['시군구명'].value_counts().sort_index()\n",
    "\n",
    "X=np.arange(6)\n",
    "w=0.3\n",
    "\n",
    "_=ax.bar(X, sb_cnt, width=w, label='스타벅스')\n",
    "_=ax.bar(X+w, ed_cnt, width=w, label='이디야')\n",
    "_=ax.legend()\n",
    "\n",
    "_=ax.set_xticks(X+w/2)\n",
    "_=ax.set_xticklabels(sb_cnt.index)\n",
    "## 코드작성 끝"
   ]
  }
 ],
 "metadata": {
  "kernelspec": {
   "display_name": "Python 3 (ipykernel)",
   "language": "python",
   "name": "python3"
  },
  "language_info": {
   "codemirror_mode": {
    "name": "ipython",
    "version": 3
   },
   "file_extension": ".py",
   "mimetype": "text/x-python",
   "name": "python",
   "nbconvert_exporter": "python",
   "pygments_lexer": "ipython3",
   "version": "3.9.12"
  },
  "toc": {
   "base_numbering": 1,
   "nav_menu": {},
   "number_sections": true,
   "sideBar": true,
   "skip_h1_title": false,
   "title_cell": "Table of Contents",
   "title_sidebar": "Contents",
   "toc_cell": false,
   "toc_position": {
    "height": "797px",
    "left": "308px",
    "top": "96px",
    "width": "211.944px"
   },
   "toc_section_display": true,
   "toc_window_display": true
  },
  "varInspector": {
   "cols": {
    "lenName": 16,
    "lenType": 16,
    "lenVar": 40
   },
   "kernels_config": {
    "python": {
     "delete_cmd_postfix": "",
     "delete_cmd_prefix": "del ",
     "library": "var_list.py",
     "varRefreshCmd": "print(var_dic_list())"
    },
    "r": {
     "delete_cmd_postfix": ") ",
     "delete_cmd_prefix": "rm(",
     "library": "var_list.r",
     "varRefreshCmd": "cat(var_dic_list()) "
    }
   },
   "types_to_exclude": [
    "module",
    "function",
    "builtin_function_or_method",
    "instance",
    "_Feature"
   ],
   "window_display": false
  }
 },
 "nbformat": 4,
 "nbformat_minor": 2
}
