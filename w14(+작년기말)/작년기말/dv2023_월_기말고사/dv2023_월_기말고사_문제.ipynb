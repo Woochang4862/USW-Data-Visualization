{
 "cells": [
  {
   "cell_type": "code",
   "execution_count": 1,
   "metadata": {},
   "outputs": [
    {
     "name": "stdout",
     "output_type": "stream",
     "text": [
      "python 3.10.13 (main, Mar 12 2024, 15:59:23) [Clang 15.0.0 (clang-1500.1.0.2.5)]\n",
      "numpy 1.24.0\n",
      "pandas 2.2.3\n",
      "matplotlib 3.8.3\n"
     ]
    },
    {
     "ename": "FileNotFoundError",
     "evalue": "[Errno 2] No such file or directory: '/Users/jeong-woochang/USW-Data-Visualization/w14(+작년기말)/작년기말/dv2023_월_기말고사/c:/Windows/Fonts/malgun.ttf'",
     "output_type": "error",
     "traceback": [
      "\u001b[0;31m---------------------------------------------------------------------------\u001b[0m",
      "\u001b[0;31mFileNotFoundError\u001b[0m                         Traceback (most recent call last)",
      "Cell \u001b[0;32mIn[1], line 21\u001b[0m\n\u001b[1;32m     19\u001b[0m \u001b[38;5;66;03m## 한글 주석을 위해 추가\u001b[39;00m\n\u001b[1;32m     20\u001b[0m \u001b[38;5;28;01mfrom\u001b[39;00m \u001b[38;5;21;01mmatplotlib\u001b[39;00m \u001b[38;5;28;01mimport\u001b[39;00m font_manager, rc\n\u001b[0;32m---> 21\u001b[0m font_name \u001b[38;5;241m=\u001b[39m \u001b[43mfont_manager\u001b[49m\u001b[38;5;241;43m.\u001b[39;49m\u001b[43mFontProperties\u001b[49m\u001b[43m(\u001b[49m\u001b[43mfname\u001b[49m\u001b[38;5;241;43m=\u001b[39;49m\u001b[38;5;124;43m\"\u001b[39;49m\u001b[38;5;124;43mc:/Windows/Fonts/malgun.ttf\u001b[39;49m\u001b[38;5;124;43m\"\u001b[39;49m\u001b[43m)\u001b[49m\u001b[38;5;241;43m.\u001b[39;49m\u001b[43mget_name\u001b[49m\u001b[43m(\u001b[49m\u001b[43m)\u001b[49m\n\u001b[1;32m     22\u001b[0m rc(\u001b[38;5;124m'\u001b[39m\u001b[38;5;124mfont\u001b[39m\u001b[38;5;124m'\u001b[39m, family\u001b[38;5;241m=\u001b[39mfont_name)\n\u001b[1;32m     24\u001b[0m \u001b[38;5;66;03m## minus sign tick 오류 방지를 위해 추가\u001b[39;00m\n",
      "File \u001b[0;32m~/.pyenv/versions/3.10.13/lib/python3.10/site-packages/matplotlib/font_manager.py:669\u001b[0m, in \u001b[0;36mFontProperties.get_name\u001b[0;34m(self)\u001b[0m\n\u001b[1;32m    665\u001b[0m \u001b[38;5;28;01mdef\u001b[39;00m \u001b[38;5;21mget_name\u001b[39m(\u001b[38;5;28mself\u001b[39m):\n\u001b[1;32m    666\u001b[0m \u001b[38;5;250m    \u001b[39m\u001b[38;5;124;03m\"\"\"\u001b[39;00m\n\u001b[1;32m    667\u001b[0m \u001b[38;5;124;03m    Return the name of the font that best matches the font properties.\u001b[39;00m\n\u001b[1;32m    668\u001b[0m \u001b[38;5;124;03m    \"\"\"\u001b[39;00m\n\u001b[0;32m--> 669\u001b[0m     \u001b[38;5;28;01mreturn\u001b[39;00m \u001b[43mget_font\u001b[49m\u001b[43m(\u001b[49m\u001b[43mfindfont\u001b[49m\u001b[43m(\u001b[49m\u001b[38;5;28;43mself\u001b[39;49m\u001b[43m)\u001b[49m\u001b[43m)\u001b[49m\u001b[38;5;241m.\u001b[39mfamily_name\n",
      "File \u001b[0;32m~/.pyenv/versions/3.10.13/lib/python3.10/site-packages/matplotlib/font_manager.py:1554\u001b[0m, in \u001b[0;36mget_font\u001b[0;34m(font_filepaths, hinting_factor)\u001b[0m\n\u001b[1;32m   1551\u001b[0m \u001b[38;5;28;01mif\u001b[39;00m hinting_factor \u001b[38;5;129;01mis\u001b[39;00m \u001b[38;5;28;01mNone\u001b[39;00m:\n\u001b[1;32m   1552\u001b[0m     hinting_factor \u001b[38;5;241m=\u001b[39m mpl\u001b[38;5;241m.\u001b[39mrcParams[\u001b[38;5;124m'\u001b[39m\u001b[38;5;124mtext.hinting_factor\u001b[39m\u001b[38;5;124m'\u001b[39m]\n\u001b[0;32m-> 1554\u001b[0m \u001b[38;5;28;01mreturn\u001b[39;00m \u001b[43m_get_font\u001b[49m\u001b[43m(\u001b[49m\n\u001b[1;32m   1555\u001b[0m \u001b[43m    \u001b[49m\u001b[38;5;66;43;03m# must be a tuple to be cached\u001b[39;49;00m\n\u001b[1;32m   1556\u001b[0m \u001b[43m    \u001b[49m\u001b[43mpaths\u001b[49m\u001b[43m,\u001b[49m\n\u001b[1;32m   1557\u001b[0m \u001b[43m    \u001b[49m\u001b[43mhinting_factor\u001b[49m\u001b[43m,\u001b[49m\n\u001b[1;32m   1558\u001b[0m \u001b[43m    \u001b[49m\u001b[43m_kerning_factor\u001b[49m\u001b[38;5;241;43m=\u001b[39;49m\u001b[43mmpl\u001b[49m\u001b[38;5;241;43m.\u001b[39;49m\u001b[43mrcParams\u001b[49m\u001b[43m[\u001b[49m\u001b[38;5;124;43m'\u001b[39;49m\u001b[38;5;124;43mtext.kerning_factor\u001b[39;49m\u001b[38;5;124;43m'\u001b[39;49m\u001b[43m]\u001b[49m\u001b[43m,\u001b[49m\n\u001b[1;32m   1559\u001b[0m \u001b[43m    \u001b[49m\u001b[38;5;66;43;03m# also key on the thread ID to prevent segfaults with multi-threading\u001b[39;49;00m\n\u001b[1;32m   1560\u001b[0m \u001b[43m    \u001b[49m\u001b[43mthread_id\u001b[49m\u001b[38;5;241;43m=\u001b[39;49m\u001b[43mthreading\u001b[49m\u001b[38;5;241;43m.\u001b[39;49m\u001b[43mget_ident\u001b[49m\u001b[43m(\u001b[49m\u001b[43m)\u001b[49m\n\u001b[1;32m   1561\u001b[0m \u001b[43m\u001b[49m\u001b[43m)\u001b[49m\n",
      "File \u001b[0;32m~/.pyenv/versions/3.10.13/lib/python3.10/site-packages/matplotlib/font_manager.py:1496\u001b[0m, in \u001b[0;36m_get_font\u001b[0;34m(font_filepaths, hinting_factor, _kerning_factor, thread_id)\u001b[0m\n\u001b[1;32m   1493\u001b[0m \u001b[38;5;129m@lru_cache\u001b[39m(\u001b[38;5;241m64\u001b[39m)\n\u001b[1;32m   1494\u001b[0m \u001b[38;5;28;01mdef\u001b[39;00m \u001b[38;5;21m_get_font\u001b[39m(font_filepaths, hinting_factor, \u001b[38;5;241m*\u001b[39m, _kerning_factor, thread_id):\n\u001b[1;32m   1495\u001b[0m     first_fontpath, \u001b[38;5;241m*\u001b[39mrest \u001b[38;5;241m=\u001b[39m font_filepaths\n\u001b[0;32m-> 1496\u001b[0m     \u001b[38;5;28;01mreturn\u001b[39;00m \u001b[43mft2font\u001b[49m\u001b[38;5;241;43m.\u001b[39;49m\u001b[43mFT2Font\u001b[49m\u001b[43m(\u001b[49m\n\u001b[1;32m   1497\u001b[0m \u001b[43m        \u001b[49m\u001b[43mfirst_fontpath\u001b[49m\u001b[43m,\u001b[49m\u001b[43m \u001b[49m\u001b[43mhinting_factor\u001b[49m\u001b[43m,\u001b[49m\n\u001b[1;32m   1498\u001b[0m \u001b[43m        \u001b[49m\u001b[43m_fallback_list\u001b[49m\u001b[38;5;241;43m=\u001b[39;49m\u001b[43m[\u001b[49m\n\u001b[1;32m   1499\u001b[0m \u001b[43m            \u001b[49m\u001b[43mft2font\u001b[49m\u001b[38;5;241;43m.\u001b[39;49m\u001b[43mFT2Font\u001b[49m\u001b[43m(\u001b[49m\n\u001b[1;32m   1500\u001b[0m \u001b[43m                \u001b[49m\u001b[43mfpath\u001b[49m\u001b[43m,\u001b[49m\u001b[43m \u001b[49m\u001b[43mhinting_factor\u001b[49m\u001b[43m,\u001b[49m\n\u001b[1;32m   1501\u001b[0m \u001b[43m                \u001b[49m\u001b[43m_kerning_factor\u001b[49m\u001b[38;5;241;43m=\u001b[39;49m\u001b[43m_kerning_factor\u001b[49m\n\u001b[1;32m   1502\u001b[0m \u001b[43m            \u001b[49m\u001b[43m)\u001b[49m\n\u001b[1;32m   1503\u001b[0m \u001b[43m            \u001b[49m\u001b[38;5;28;43;01mfor\u001b[39;49;00m\u001b[43m \u001b[49m\u001b[43mfpath\u001b[49m\u001b[43m \u001b[49m\u001b[38;5;129;43;01min\u001b[39;49;00m\u001b[43m \u001b[49m\u001b[43mrest\u001b[49m\n\u001b[1;32m   1504\u001b[0m \u001b[43m        \u001b[49m\u001b[43m]\u001b[49m\u001b[43m,\u001b[49m\n\u001b[1;32m   1505\u001b[0m \u001b[43m        \u001b[49m\u001b[43m_kerning_factor\u001b[49m\u001b[38;5;241;43m=\u001b[39;49m\u001b[43m_kerning_factor\u001b[49m\n\u001b[1;32m   1506\u001b[0m \u001b[43m    \u001b[49m\u001b[43m)\u001b[49m\n",
      "\u001b[0;31mFileNotFoundError\u001b[0m: [Errno 2] No such file or directory: '/Users/jeong-woochang/USW-Data-Visualization/w14(+작년기말)/작년기말/dv2023_월_기말고사/c:/Windows/Fonts/malgun.ttf'"
     ]
    }
   ],
   "source": [
    "import sys\n",
    "print('python', sys.version)\n",
    "\n",
    "import numpy as np\n",
    "print('numpy', np.__version__)\n",
    "\n",
    "import pandas as pd\n",
    "print('pandas', pd.__version__)\n",
    "\n",
    "import matplotlib as mpl\n",
    "print('matplotlib', mpl.__version__)\n",
    "\n",
    "import matplotlib.pyplot as plt\n",
    "\n",
    "# # 결과 확인을 용이하게 하기 위한 코드\n",
    "from IPython.core.interactiveshell import InteractiveShell\n",
    "InteractiveShell.ast_node_interactivity = 'all'\n",
    "\n",
    "## 한글 주석을 위해 추가\n",
    "from matplotlib import font_manager, rc\n",
    "font_name = font_manager.FontProperties(fname=\"c:/Windows/Fonts/malgun.ttf\").get_name()\n",
    "rc('font', family=font_name)\n",
    "\n",
    "## minus sign tick 오류 방지를 위해 추가\n",
    "import matplotlib as mpl\n",
    "mpl.rcParams['axes.unicode_minus']=False"
   ]
  },
  {
   "cell_type": "code",
   "execution_count": 2,
   "metadata": {},
   "outputs": [],
   "source": [
    "##################################################\n",
    "############### 문제 풀기 전 주의사항 ##############\n",
    "##################################################\n",
    "\n",
    "# 시험시간 내 인터넷 사용 금지, 시험문제 다운로드, 업로드 시에만 가능\n",
    "# (시험 중, 핸드폰이나 인터넷 사용을 포함한 부정행위 적발시 0점 처리).\n",
    "\n",
    "# ipynb, html 시험 파일, 데이터를 모두 다운 받고,\n",
    "# ipynb 시험 파일은 파일명 수정 -> dv수_20181234_홍길동.ipynb.\n",
    "\n",
    "# html 파일의 실행결과를 참고하여, ipynb 파일의 #=== 코드작성 ===# 부분에 코드를 작성하여\n",
    "# 프로그램을 완성 (ipynb파일의 실행결과는 코드 작성과정에서 사라질 수 있음).\n",
    "\n",
    "# 맨 위의 셀을 우선 실행.\n",
    "# 랜덤 값을 입력으로하는 문제는 주어진 실행결과와 다른 실행결과가 나올 수 있음.\n",
    "# 문제에 주어진 코드는 수정 불가.\n",
    "\n",
    "# 시험 도중 anaconda prompt (검은창) 지우지 말것.\n",
    "# 갑자기 컴퓨터에 문제가 생길수 있으니, 시험 중간중간에 파일 저장 (crtl+s) 할 것.\n",
    "\n",
    "# 시험이 끝나면 실행결과를 모두 확인하고 난 후에, 저장 하고 제출\n",
    "# (작성한 ipynb 시험 파일(dv수_20181234_홍길동.ipynb)을  \"캔버스 --> 과제 --> 중간고사\" 에 업로드).\n",
    "\n"
   ]
  },
  {
   "cell_type": "markdown",
   "metadata": {},
   "source": [
    "## 문제1"
   ]
  },
  {
   "cell_type": "code",
   "execution_count": 4,
   "metadata": {},
   "outputs": [
    {
     "data": {
      "text/plain": [
       "[<matplotlib.lines.Line2D at 0x12120a1d0>]"
      ]
     },
     "execution_count": 4,
     "metadata": {},
     "output_type": "execute_result"
    },
    {
     "data": {
      "text/plain": [
       "Text(0.5, 1.0, '$y=log_2(\\\\frac{x+3}{x-1})$')"
      ]
     },
     "execution_count": 4,
     "metadata": {},
     "output_type": "execute_result"
    },
    {
     "data": {
      "image/png": "[encoded data removed]",
      "text/plain": [
       "<Figure size 300x300 with 1 Axes>"
      ]
     },
     "metadata": {},
     "output_type": "display_data"
    }
   ],
   "source": [
    "# 1) 1.5 < X < 4의 범위에서 Y=np.log2((X+3)/(X-1)) 함수를 plot 하시오 (1점)\n",
    "# 2) 해당 함수식을 레이텍을 활용하여 결과 그림과 같이 title에 추가하시오 (2점)\n",
    "\n",
    "fig=plt.figure(figsize=(3,3), dpi=100)\n",
    "ax =fig.subplots()\n",
    "\n",
    "#=== 코드작성 ===#\n",
    "X = np.linspace(1.5,4,1000)\n",
    "Y = np.log2((X+3)/(X-1))\n",
    "ax.plot(X,Y)\n",
    "ax.set_title(\"$y=log_2(\\\\frac{x+3}{x-1})$\", fontsize=15)"
   ]
  },
  {
   "cell_type": "markdown",
   "metadata": {},
   "source": [
    "## 문제2"
   ]
  },
  {
   "cell_type": "code",
   "execution_count": 6,
   "metadata": {},
   "outputs": [
    {
     "data": {
      "text/plain": [
       "[8, 20, 44]"
      ]
     },
     "execution_count": 6,
     "metadata": {},
     "output_type": "execute_result"
    },
    {
     "data": {
      "image/png": "[encoded data removed]",
      "text/plain": [
       "<Figure size 480x360 with 1 Axes>"
      ]
     },
     "metadata": {},
     "output_type": "display_data"
    }
   ],
   "source": [
    "# 랜덤하게 생성되는 3개의 정수를 담은 dat을 bar그래프로 그리고,\n",
    "# 3개의 값 만을 y tick으로 생성하여 그림과 같이 그리시오\n",
    "\n",
    "# - bar 그리기 (1점)\n",
    "# - yticks (2점)\n",
    "\n",
    "fig=plt.figure(figsize=(4,3), dpi=120)\n",
    "ax=fig.subplots()\n",
    "\n",
    "dat=[np.random.randint(1,10), np.random.randint(20,30), np.random.randint(40,50)]\n",
    "dat\n",
    "\n",
    "# #=== 코드작성 ===#\n",
    "X = np.arange(len(dat))\n",
    "_=ax.bar(X,dat)\n",
    "_=ax.set_yticks(dat)"
   ]
  },
  {
   "cell_type": "markdown",
   "metadata": {},
   "source": [
    "## 문제3"
   ]
  },
  {
   "cell_type": "code",
   "execution_count": 9,
   "metadata": {},
   "outputs": [
    {
     "data": {
      "image/png": "[encoded data removed]",
      "text/plain": [
       "<Figure size 900x600 with 1 Axes>"
      ]
     },
     "metadata": {},
     "output_type": "display_data"
    }
   ],
   "source": [
    "# 1) 그러진 사각형의 오른쪽 위에 빨간 점을 scatter 하시오 (1점)\n",
    "# 2) 빨간 점의 오른쪽 위에 'Here'라는 문구를 넣으시오 (2점)\n",
    "\n",
    "# 조건1) 채점시, x1,x2,y1,y2 변경 가능\n",
    "# 조건2) 빨간점에 닿지 않도록 하시오\n",
    "# 힌트1) 빨간점 scatter시 s=10\n",
    "\n",
    "fig=plt.figure(figsize=(6,4), dpi=150)\n",
    "ax1=fig.subplots()\n",
    "\n",
    "x1=4.8\n",
    "x2=5.2\n",
    "y1=1.8\n",
    "y2=2.2\n",
    "\n",
    "_=ax1.plot([x1,x1,x2,x2,x1],[y1,y2,y2,y1,y1])\n",
    "_=ax1.set_xlim(x1-0.3,x2+0.3)\n",
    "_=ax1.set_ylim(y1-0.5,y2+0.5)\n",
    "\n",
    "# 코드작성\n",
    "_=ax1.scatter(x2,y2, color='r', s=10)\n",
    "_=ax1.text(x2,y2,\"Here\", va='bottom')"
   ]
  },
  {
   "cell_type": "markdown",
   "metadata": {},
   "source": [
    "## 문제4"
   ]
  },
  {
   "cell_type": "code",
   "execution_count": null,
   "metadata": {},
   "outputs": [
    {
     "data": {
      "text/plain": [
       "a    31\n",
       "b    20\n",
       "c    28\n",
       "d    11\n",
       "e    39\n",
       "dtype: int64"
      ]
     },
     "execution_count": 13,
     "metadata": {},
     "output_type": "execute_result"
    },
    {
     "data": {
      "image/png": "[encoded data removed]",
      "text/plain": [
       "<Figure size 800x300 with 1 Axes>"
      ]
     },
     "metadata": {},
     "output_type": "display_data"
    }
   ],
   "source": [
    "# 랜덤하게 값으로 생성되는 sr1을 sorting하여 bar 그래프로 그리시오 (2점)\n",
    "# sorting 된 bar 그래프에 해당 값을 text로 넣으시오 (1점)\n",
    "\n",
    "fig=plt.figure(figsize=(8,3), dpi=100)\n",
    "ax=fig.subplots()\n",
    "\n",
    "sr1=pd.Series(np.random.choice(range(7,40), size=5, replace=False), index=list('abcde'))\n",
    "sr1\n",
    "\n",
    "#=== 코드작성 ===#\n",
    "sr1 = sr1.sort_values(ascending=False)\n",
    "_=ax.bar(sr1.index,sr1,color='y')\n",
    "\n",
    "for i, text in enumerate(sr1):\n",
    "    _=ax.text(i, text, str(text), ha='center', va='top', fontsize=15)\n",
    "_=ax.tick_params(axis='x', labelsize=13)\n"
   ]
  },
  {
   "cell_type": "markdown",
   "metadata": {},
   "source": [
    "## 문제5"
   ]
  },
  {
   "cell_type": "code",
   "execution_count": null,
   "metadata": {},
   "outputs": [
    {
     "data": {
      "text/html": [
       "<div>\n",
       "<style scoped>\n",
       "    .dataframe tbody tr th:only-of-type {\n",
       "        vertical-align: middle;\n",
       "    }\n",
       "\n",
       "    .dataframe tbody tr th {\n",
       "        vertical-align: top;\n",
       "    }\n",
       "\n",
       "    .dataframe thead th {\n",
       "        text-align: right;\n",
       "    }\n",
       "</style>\n",
       "<table border=\"1\" class=\"dataframe\">\n",
       "  <thead>\n",
       "    <tr style=\"text-align: right;\">\n",
       "      <th></th>\n",
       "      <th>col1</th>\n",
       "      <th>col2</th>\n",
       "      <th>col3</th>\n",
       "      <th>col4</th>\n",
       "      <th>col5</th>\n",
       "      <th>col6</th>\n",
       "    </tr>\n",
       "  </thead>\n",
       "  <tbody>\n",
       "    <tr>\n",
       "      <th>A</th>\n",
       "      <td>1</td>\n",
       "      <td>2</td>\n",
       "      <td>3</td>\n",
       "      <td>4</td>\n",
       "      <td>5</td>\n",
       "      <td>6</td>\n",
       "    </tr>\n",
       "    <tr>\n",
       "      <th>B</th>\n",
       "      <td>7</td>\n",
       "      <td>8</td>\n",
       "      <td>9</td>\n",
       "      <td>10</td>\n",
       "      <td>11</td>\n",
       "      <td>12</td>\n",
       "    </tr>\n",
       "    <tr>\n",
       "      <th>C</th>\n",
       "      <td>13</td>\n",
       "      <td>14</td>\n",
       "      <td>15</td>\n",
       "      <td>16</td>\n",
       "      <td>17</td>\n",
       "      <td>18</td>\n",
       "    </tr>\n",
       "    <tr>\n",
       "      <th>D</th>\n",
       "      <td>10</td>\n",
       "      <td>20</td>\n",
       "      <td>10</td>\n",
       "      <td>20</td>\n",
       "      <td>2</td>\n",
       "      <td>20</td>\n",
       "    </tr>\n",
       "  </tbody>\n",
       "</table>\n",
       "</div>"
      ],
      "text/plain": [
       "   col1  col2  col3  col4  col5  col6\n",
       "A     1     2     3     4     5     6\n",
       "B     7     8     9    10    11    12\n",
       "C    13    14    15    16    17    18\n",
       "D    10    20    10    20     2    20"
      ]
     },
     "execution_count": 15,
     "metadata": {},
     "output_type": "execute_result"
    },
    {
     "data": {
      "image/png": "[encoded data removed]",
      "text/plain": [
       "<Figure size 480x240 with 1 Axes>"
      ]
     },
     "metadata": {},
     "output_type": "display_data"
    }
   ],
   "source": [
    "# 주어진 df에는 col1~col6 까지 6개의 column이 있다.\n",
    "# col1에 있는 column을 ax1에 bar로 나타내시오\n",
    "# 이때 bar의 색깔은 color_dic의 해당 column 색깔로 그리시오\n",
    "\n",
    "# - bar 그리기 (1점)\n",
    "# - bar의 color (1점)\n",
    "# - axes title (1점)\n",
    "\n",
    "# 조건1) 채점시 cols 리스트 값 변경 가능 (개수는 세 개로 동일) \n",
    "# 조건2) bar 함수 호출시 for문 사용\n",
    "\n",
    "fig=plt.figure(figsize=(4,2), dpi=120)\n",
    "ax1=fig.subplots()\n",
    "\n",
    "df = pd.DataFrame(np.arange(1,25).reshape(4,6), columns=['col{}'.format(ii) for ii in range(1,7)], index=list('ABCD'))\n",
    "df.loc['D']=[10,20,10,20,2,20]\n",
    "df\n",
    "\n",
    "col1='col3'\n",
    "color_dic={'col1': 'r',\n",
    "           'col2': 'g',\n",
    "           'col3': 'b',\n",
    "           'col4': 'y',\n",
    "           'col5': 'c',\n",
    "           'col6': 'k'}\n",
    "\n",
    "#=== 코드작성 ===#\n",
    "_=ax1.bar(df.index,df[col1], color=color_dic[col1])\n",
    "_=ax1.set_title(col1)"
   ]
  },
  {
   "cell_type": "markdown",
   "metadata": {},
   "source": [
    "## 문제6"
   ]
  },
  {
   "cell_type": "code",
   "execution_count": null,
   "metadata": {},
   "outputs": [
    {
     "data": {
      "text/plain": [
       "array([19, 23,  9,  2, 14])"
      ]
     },
     "execution_count": 25,
     "metadata": {},
     "output_type": "execute_result"
    },
    {
     "data": {
      "text/plain": [
       "array([0, 1, 1, 0, 1])"
      ]
     },
     "execution_count": 25,
     "metadata": {},
     "output_type": "execute_result"
    },
    {
     "data": {
      "image/png": "[encoded data removed]",
      "text/plain": [
       "<Figure size 600x200 with 1 Axes>"
      ]
     },
     "metadata": {},
     "output_type": "display_data"
    }
   ],
   "source": [
    "# X는 1~29 중 5개를 랜덤하게 뽑은 array이고 (비복원추출),\n",
    "# Y는 0과 1 중에서 랜덤하게 5번 뽑은 array이다 (복원추출).\n",
    "\n",
    "# - X, Y로 구성된 총 다섯개의 점을 scatter 하시오 (1점)\n",
    "# - y가 0인 경우는 x 좌표를 아랫쪽에, y가 1인 경우는 x 좌표를 윗쪽에 넣으시오 (2점)\n",
    "\n",
    "fig=plt.figure(figsize=(6,2), dpi=100)\n",
    "ax=fig.subplots()\n",
    "\n",
    "X=np.random.choice(range(1,30), size=5, replace=False)\n",
    "Y=np.random.choice([0,1], size=5)\n",
    "X\n",
    "Y\n",
    "\n",
    "#=== 코드작성 ===#\n",
    "_=ax.scatter(X,Y)\n",
    "\n",
    "for x,y in zip(X,Y):\n",
    "    _=ax.text(x,y+0.1*(1 if y else -1),str(x),ha='center',va='bottom'if y else 'top', fontsize=12)\n",
    "_=ax.set_yticks([-1,0,1,2])\n",
    "_=ax.grid(axis='y')"
   ]
  },
  {
   "cell_type": "markdown",
   "metadata": {},
   "source": [
    "## 문제7"
   ]
  },
  {
   "cell_type": "code",
   "execution_count": 28,
   "metadata": {},
   "outputs": [
    {
     "data": {
      "image/png": "[encoded data removed]",
      "text/plain": [
       "<Figure size 500x300 with 1 Axes>"
      ]
     },
     "metadata": {},
     "output_type": "display_data"
    }
   ],
   "source": [
    "###### 1) D1, D2, D3 각각을 히스토그램으로 그리는데 아래의 특성으로 그리시오 (1점)\n",
    "##       |   D1   |   D2    |    D3   |\n",
    "##--------------------------------------\n",
    "## color |   'b'  |   'r'   |   'g'   |\n",
    "## bins  |   20   |    10   |    5    |\n",
    "\n",
    "###### 2) legend를 위 가운데에 넣으시오 (2점)\n",
    "\n",
    "# - 힌트1) for loop을 사용하지 않아도 무방\n",
    "\n",
    "fig=plt.figure(figsize=(5,3), dpi=100)\n",
    "ax1=fig.subplots()\n",
    "\n",
    "D1=np.random.uniform(0,1,size=1000)\n",
    "D2=np.random.uniform(2,3,size=1000)\n",
    "D3=np.random.uniform(4,5,size=1000)\n",
    "\n",
    "#=== 코드작성 ===#\n",
    "_=ax1.hist(D1, bins=20, edgecolor='k', color='b', label='D1')\n",
    "_=ax1.hist(D2, bins=10, edgecolor='k', color='r', label='D2')\n",
    "_=ax1.hist(D3, bins=5, edgecolor='k', color='g', label='D3')\n",
    "_=ax1.legend(loc='upper center')"
   ]
  },
  {
   "cell_type": "markdown",
   "metadata": {},
   "source": [
    "## 문제8"
   ]
  },
  {
   "cell_type": "code",
   "execution_count": null,
   "metadata": {},
   "outputs": [
    {
     "data": {
      "text/plain": [
       "g    10\n",
       "e     7\n",
       "b     6\n",
       "f     5\n",
       "c     4\n",
       "d     2\n",
       "a     1\n",
       "dtype: int64"
      ]
     },
     "execution_count": 38,
     "metadata": {},
     "output_type": "execute_result"
    },
    {
     "data": {
      "image/png": "[encoded data removed]",
      "text/plain": [
       "<Figure size 600x360 with 1 Axes>"
      ]
     },
     "metadata": {},
     "output_type": "display_data"
    }
   ],
   "source": [
    "# sorting이 된 series를 아래와 같이 bar 그래프로 그렸다. \n",
    "# 첫번째와 두번째 bar의 끝 부분을 포함하는 사각형을 그리시오 (1점)\n",
    "# 그 두 개의 bar를 부그림에 나타내시오 (2점)\n",
    "\n",
    "# 조건1) 그려진 bar graph를 가리지않게 하시오\n",
    "# 조건2) 부그림에 그려지는 두 bar의 높이를 ytick으로 하시오\n",
    "# 조건3) 부그림의 xtick에 유의하시오\n",
    "# 힌트1) ax1.get_xticks()\n",
    "\n",
    "fig=plt.figure(figsize=(5,3), dpi=120)\n",
    "ax1=fig.subplots()\n",
    "\n",
    "sr1=pd.Series([1,6,4,2,7,5,10], index=list('abcdefg')).sort_values(ascending=False)\n",
    "sr1\n",
    "\n",
    "_=ax1.bar(sr1.index, sr1)\n",
    "\n",
    "## 코드작성\n",
    "_=ax1.plot([-0.5,1.5,1.5,-0.5,-0.5],[6,6,11,11,6], 'r-')\n",
    "inset_ax = ax1.inset_axes([0.6,0.6,0.3,0.3])\n",
    "_=inset_ax.bar(sr1.index[:2],sr1.iloc[:2],color='y')\n",
    "_=inset_ax.set_yticks(sr1.iloc[:2])\n",
    "\n",
    "_=ax1.set_ylim(0,12)"
   ]
  },
  {
   "cell_type": "markdown",
   "metadata": {},
   "source": [
    "## 문제9"
   ]
  },
  {
   "cell_type": "code",
   "execution_count": 129,
   "metadata": {},
   "outputs": [
    {
     "data": {
      "text/plain": [
       "<Axes: >"
      ]
     },
     "execution_count": 129,
     "metadata": {},
     "output_type": "execute_result"
    },
    {
     "data": {
      "text/plain": [
       "<Axes: >"
      ]
     },
     "execution_count": 129,
     "metadata": {},
     "output_type": "execute_result"
    },
    {
     "data": {
      "text/plain": [
       "<Axes: >"
      ]
     },
     "execution_count": 129,
     "metadata": {},
     "output_type": "execute_result"
    },
    {
     "data": {
      "text/plain": [
       "<Axes: >"
      ]
     },
     "execution_count": 129,
     "metadata": {},
     "output_type": "execute_result"
    },
    {
     "data": {
      "text/plain": [
       "<Axes: >"
      ]
     },
     "execution_count": 129,
     "metadata": {},
     "output_type": "execute_result"
    },
    {
     "data": {
      "image/png": "[encoded data removed]",
      "text/plain": [
       "<Figure size 600x400 with 5 Axes>"
      ]
     },
     "metadata": {},
     "output_type": "display_data"
    }
   ],
   "source": [
    "# 하나의 figure에 아래와 같이 ax들을 만드시오 (3점)\n",
    "\n",
    "fig=plt.figure(figsize=(6,4), dpi=100)\n",
    "\n",
    "#=== 코드작성 ===#\n",
    "fig.add_subplot(4,4,(1,13))\n",
    "fig.add_subplot(4,4,2)\n",
    "fig.add_subplot(4,4,6)\n",
    "fig.add_subplot(4,4,(3,15))\n",
    "#fig.add_subplot(4,4,(12,16))\n",
    "#fig.add_subplot(2,4,4)\n",
    "fig.add_subplot(2,4,8)\n",
    "fig.tight_layout()"
   ]
  },
  {
   "cell_type": "markdown",
   "metadata": {},
   "source": [
    "## 문제10"
   ]
  },
  {
   "cell_type": "code",
   "execution_count": 132,
   "metadata": {},
   "outputs": [
    {
     "data": {
      "text/html": [
       "<div>\n",
       "<style scoped>\n",
       "    .dataframe tbody tr th:only-of-type {\n",
       "        vertical-align: middle;\n",
       "    }\n",
       "\n",
       "    .dataframe tbody tr th {\n",
       "        vertical-align: top;\n",
       "    }\n",
       "\n",
       "    .dataframe thead th {\n",
       "        text-align: right;\n",
       "    }\n",
       "</style>\n",
       "<table border=\"1\" class=\"dataframe\">\n",
       "  <thead>\n",
       "    <tr style=\"text-align: right;\">\n",
       "      <th></th>\n",
       "      <th>c1</th>\n",
       "      <th>c2</th>\n",
       "      <th>c3</th>\n",
       "      <th>c4</th>\n",
       "      <th>c5</th>\n",
       "    </tr>\n",
       "  </thead>\n",
       "  <tbody>\n",
       "    <tr>\n",
       "      <th>A</th>\n",
       "      <td>1</td>\n",
       "      <td>2</td>\n",
       "      <td>3</td>\n",
       "      <td>4</td>\n",
       "      <td>5</td>\n",
       "    </tr>\n",
       "    <tr>\n",
       "      <th>B</th>\n",
       "      <td>6</td>\n",
       "      <td>7</td>\n",
       "      <td>8</td>\n",
       "      <td>9</td>\n",
       "      <td>10</td>\n",
       "    </tr>\n",
       "    <tr>\n",
       "      <th>C</th>\n",
       "      <td>11</td>\n",
       "      <td>12</td>\n",
       "      <td>13</td>\n",
       "      <td>14</td>\n",
       "      <td>15</td>\n",
       "    </tr>\n",
       "    <tr>\n",
       "      <th>D</th>\n",
       "      <td>16</td>\n",
       "      <td>17</td>\n",
       "      <td>18</td>\n",
       "      <td>19</td>\n",
       "      <td>20</td>\n",
       "    </tr>\n",
       "  </tbody>\n",
       "</table>\n",
       "</div>"
      ],
      "text/plain": [
       "   c1  c2  c3  c4  c5\n",
       "A   1   2   3   4   5\n",
       "B   6   7   8   9  10\n",
       "C  11  12  13  14  15\n",
       "D  16  17  18  19  20"
      ]
     },
     "execution_count": 132,
     "metadata": {},
     "output_type": "execute_result"
    },
    {
     "data": {
      "image/png": "[encoded data removed]",
      "text/plain": [
       "<Figure size 1000x500 with 2 Axes>"
      ]
     },
     "metadata": {},
     "output_type": "display_data"
    }
   ],
   "source": [
    "# 주어진 df1을 heatmap으로 그리시오 (단, 행 순서가 axes 맨 위에서부터 A,B,C,D 순서대로 되도록 그리시오) (2점)\n",
    "# 각 값을 text로 넣으시오 (해당 셀의 왼쪽 아래에 나타나도록 넣으시오) (1점)\n",
    "\n",
    "# 조건1) axes의 pcolor 함수를 사용하시오\n",
    "# 힌트1) pcolor 함수 사용시 cmap='Oranges'\n",
    "\n",
    "fig=plt.figure(figsize=(10,5), dpi=100)\n",
    "ax=fig.subplots()\n",
    "\n",
    "df1=pd.DataFrame(np.arange(1,21).reshape(4,5), columns=['c{}'.format(ii) for ii in range(1,6)], index=list('ABCD'))\n",
    "df1\n",
    "\n",
    "## 코드작성\n",
    "hm=ax.pcolor(df1.iloc[::-1], cmap='Oranges', edgecolor='k')\n",
    "_=fig.colorbar(hm, ax=ax)\n",
    "\n",
    "for i, row in enumerate(df1.iloc[::-1].iloc):\n",
    "    for j, v in enumerate(row):\n",
    "        _=ax.text(j,i,str(v), fontsize=15, va='bottom')\n",
    "_=ax.set_xticks(np.arange(len(df1.columns))+0.5, df1.columns)\n",
    "_=ax.set_yticks(np.arange(len(df1.index))+0.5, df1.index[::-1])"
   ]
  },
  {
   "cell_type": "markdown",
   "metadata": {},
   "source": [
    "## 문제11"
   ]
  },
  {
   "cell_type": "code",
   "execution_count": 144,
   "metadata": {},
   "outputs": [
    {
     "data": {
      "text/html": [
       "<div>\n",
       "<style scoped>\n",
       "    .dataframe tbody tr th:only-of-type {\n",
       "        vertical-align: middle;\n",
       "    }\n",
       "\n",
       "    .dataframe tbody tr th {\n",
       "        vertical-align: top;\n",
       "    }\n",
       "\n",
       "    .dataframe thead th {\n",
       "        text-align: right;\n",
       "    }\n",
       "</style>\n",
       "<table border=\"1\" class=\"dataframe\">\n",
       "  <thead>\n",
       "    <tr style=\"text-align: right;\">\n",
       "      <th></th>\n",
       "      <th>x</th>\n",
       "      <th>y</th>\n",
       "    </tr>\n",
       "  </thead>\n",
       "  <tbody>\n",
       "    <tr>\n",
       "      <th>0</th>\n",
       "      <td>1.349197</td>\n",
       "      <td>-0.483281</td>\n",
       "    </tr>\n",
       "    <tr>\n",
       "      <th>1</th>\n",
       "      <td>-0.447715</td>\n",
       "      <td>-1.344286</td>\n",
       "    </tr>\n",
       "    <tr>\n",
       "      <th>2</th>\n",
       "      <td>1.741621</td>\n",
       "      <td>0.821070</td>\n",
       "    </tr>\n",
       "    <tr>\n",
       "      <th>3</th>\n",
       "      <td>0.484632</td>\n",
       "      <td>1.912745</td>\n",
       "    </tr>\n",
       "    <tr>\n",
       "      <th>4</th>\n",
       "      <td>-0.459531</td>\n",
       "      <td>-0.829721</td>\n",
       "    </tr>\n",
       "    <tr>\n",
       "      <th>5</th>\n",
       "      <td>-0.495459</td>\n",
       "      <td>1.169302</td>\n",
       "    </tr>\n",
       "    <tr>\n",
       "      <th>6</th>\n",
       "      <td>1.866740</td>\n",
       "      <td>-1.557940</td>\n",
       "    </tr>\n",
       "    <tr>\n",
       "      <th>7</th>\n",
       "      <td>-1.089823</td>\n",
       "      <td>1.765695</td>\n",
       "    </tr>\n",
       "    <tr>\n",
       "      <th>8</th>\n",
       "      <td>1.122825</td>\n",
       "      <td>0.358635</td>\n",
       "    </tr>\n",
       "    <tr>\n",
       "      <th>9</th>\n",
       "      <td>1.730277</td>\n",
       "      <td>-0.185203</td>\n",
       "    </tr>\n",
       "    <tr>\n",
       "      <th>10</th>\n",
       "      <td>-1.070804</td>\n",
       "      <td>-0.698795</td>\n",
       "    </tr>\n",
       "    <tr>\n",
       "      <th>11</th>\n",
       "      <td>0.549611</td>\n",
       "      <td>-0.887044</td>\n",
       "    </tr>\n",
       "    <tr>\n",
       "      <th>12</th>\n",
       "      <td>-0.226813</td>\n",
       "      <td>0.958655</td>\n",
       "    </tr>\n",
       "    <tr>\n",
       "      <th>13</th>\n",
       "      <td>-1.402103</td>\n",
       "      <td>-0.852767</td>\n",
       "    </tr>\n",
       "    <tr>\n",
       "      <th>14</th>\n",
       "      <td>1.567294</td>\n",
       "      <td>-1.864081</td>\n",
       "    </tr>\n",
       "  </tbody>\n",
       "</table>\n",
       "</div>"
      ],
      "text/plain": [
       "           x         y\n",
       "0   1.349197 -0.483281\n",
       "1  -0.447715 -1.344286\n",
       "2   1.741621  0.821070\n",
       "3   0.484632  1.912745\n",
       "4  -0.459531 -0.829721\n",
       "5  -0.495459  1.169302\n",
       "6   1.866740 -1.557940\n",
       "7  -1.089823  1.765695\n",
       "8   1.122825  0.358635\n",
       "9   1.730277 -0.185203\n",
       "10 -1.070804 -0.698795\n",
       "11  0.549611 -0.887044\n",
       "12 -0.226813  0.958655\n",
       "13 -1.402103 -0.852767\n",
       "14  1.567294 -1.864081"
      ]
     },
     "execution_count": 144,
     "metadata": {},
     "output_type": "execute_result"
    },
    {
     "data": {
      "image/png": "[encoded data removed]",
      "text/plain": [
       "<Figure size 600x600 with 1 Axes>"
      ]
     },
     "metadata": {},
     "output_type": "display_data"
    }
   ],
   "source": [
    "# 주어진 df의 15개의 x,y 좌표를 scatter 하시오 (파라미터 값: color='y', edgecolor='k', s=150) (1점) \n",
    "# 파란색 별표 (0,0)에서 가장 가까운 점 2개에 각각 화살표로 표시하고 가까운 순위를 text로 나타내시오 (2점)\n",
    "\n",
    "# 힌트1) for loop 사용하지 않아도 무방\n",
    "# 힌트2) annotate 함수 arrowstyle': '<|-'\n",
    "\n",
    "fig=plt.figure(figsize=(5,5), dpi=120)\n",
    "ax=fig.subplots()\n",
    "\n",
    "_=ax.scatter(0,0,color='b',s=300, marker='*')\n",
    "\n",
    "df=pd.DataFrame(np.random.uniform(-2,2,size=(15,2)), columns=['x','y'])\n",
    "df\n",
    "#=== 코드작성 ===#\n",
    "_=ax.scatter(df['x'],df['y'],color='y',edgecolor='k',s=300)\n",
    "df['dist'] = df['x']**2 + df['y']**2\n",
    "sortest2 = df.sort_values(by='dist')[:2]\n",
    "for i, (x,y,dist) in enumerate(sortest2.iloc):\n",
    "    # _=ax.text(x,y,, ha='center', va='center')\n",
    "    _=ax.annotate(str(i+1),(0,0),(x,y), arrowprops={'arrowstyle':'<|-'},ha='center',va='center')\n",
    "    "
   ]
  },
  {
   "cell_type": "markdown",
   "metadata": {},
   "source": [
    "## 문제12"
   ]
  },
  {
   "cell_type": "code",
   "execution_count": 123,
   "metadata": {},
   "outputs": [
    {
     "data": {
      "text/html": [
       "<div>\n",
       "<style scoped>\n",
       "    .dataframe tbody tr th:only-of-type {\n",
       "        vertical-align: middle;\n",
       "    }\n",
       "\n",
       "    .dataframe tbody tr th {\n",
       "        vertical-align: top;\n",
       "    }\n",
       "\n",
       "    .dataframe thead th {\n",
       "        text-align: right;\n",
       "    }\n",
       "</style>\n",
       "<table border=\"1\" class=\"dataframe\">\n",
       "  <thead>\n",
       "    <tr style=\"text-align: right;\">\n",
       "      <th></th>\n",
       "      <th>name</th>\n",
       "      <th>score</th>\n",
       "      <th>group</th>\n",
       "    </tr>\n",
       "  </thead>\n",
       "  <tbody>\n",
       "    <tr>\n",
       "      <th>0</th>\n",
       "      <td>a</td>\n",
       "      <td>7</td>\n",
       "      <td>A</td>\n",
       "    </tr>\n",
       "    <tr>\n",
       "      <th>1</th>\n",
       "      <td>b</td>\n",
       "      <td>6</td>\n",
       "      <td>A</td>\n",
       "    </tr>\n",
       "    <tr>\n",
       "      <th>2</th>\n",
       "      <td>c</td>\n",
       "      <td>4</td>\n",
       "      <td>B</td>\n",
       "    </tr>\n",
       "    <tr>\n",
       "      <th>3</th>\n",
       "      <td>d</td>\n",
       "      <td>5</td>\n",
       "      <td>A</td>\n",
       "    </tr>\n",
       "    <tr>\n",
       "      <th>4</th>\n",
       "      <td>e</td>\n",
       "      <td>4</td>\n",
       "      <td>B</td>\n",
       "    </tr>\n",
       "    <tr>\n",
       "      <th>5</th>\n",
       "      <td>f</td>\n",
       "      <td>2</td>\n",
       "      <td>A</td>\n",
       "    </tr>\n",
       "  </tbody>\n",
       "</table>\n",
       "</div>"
      ],
      "text/plain": [
       "  name  score group\n",
       "0    a      7     A\n",
       "1    b      6     A\n",
       "2    c      4     B\n",
       "3    d      5     A\n",
       "4    e      4     B\n",
       "5    f      2     A"
      ]
     },
     "execution_count": 123,
     "metadata": {},
     "output_type": "execute_result"
    },
    {
     "data": {
      "image/png": "[encoded data removed]",
      "text/plain": [
       "<Figure size 720x360 with 1 Axes>"
      ]
     },
     "metadata": {},
     "output_type": "display_data"
    }
   ],
   "source": [
    "# 주어진 df의 score를 아래와 같이 group별로 색깔을 다르게 하여 bar graph로 나타내시오 (2점)\n",
    "# group에 대한 legned를 넣으시오 (위치는 관계 없음) (1점)\n",
    "\n",
    "# 조건1) A그룹 bar: color='g', B그룹 bar: color='y'\n",
    "# 조건2) bar 함수 호출시 for loop 사용 (사용하지 않은 경우 감점)\n",
    "\n",
    "fig=plt.figure(figsize=(6,3), dpi=120)\n",
    "ax=fig.subplots()\n",
    "\n",
    "df=pd.DataFrame({'name':list('abcdef'), 'score':[7,6,4,5,4,2], 'group':list('AABABA')})\n",
    "df\n",
    "\n",
    "# 코드작성\n",
    "color_dic = {'A':'g','B':'y'}\n",
    "for name, data in df.groupby('group'):\n",
    "    _=ax.bar(data.index, data['score'], color=color_dic[name], label=name)\n",
    "_=ax.legend()\n",
    "_=ax.set_xticks(range(6))\n",
    "_=ax.set_xticklabels(df['name'])"
   ]
  }
 ],
 "metadata": {
  "kernelspec": {
   "display_name": "Python 3",
   "language": "python",
   "name": "python3"
  },
  "language_info": {
   "codemirror_mode": {
    "name": "ipython",
    "version": 3
   },
   "file_extension": ".py",
   "mimetype": "text/x-python",
   "name": "python",
   "nbconvert_exporter": "python",
   "pygments_lexer": "ipython3",
   "version": "3.10.13"
  },
  "toc": {
   "base_numbering": 1,
   "nav_menu": {},
   "number_sections": true,
   "sideBar": true,
   "skip_h1_title": false,
   "title_cell": "Table of Contents",
   "title_sidebar": "Contents",
   "toc_cell": false,
   "toc_position": {
    "height": "calc(100% - 180px)",
    "left": "10px",
    "top": "150px",
    "width": "164.98px"
   },
   "toc_section_display": true,
   "toc_window_display": true
  },
  "varInspector": {
   "cols": {
    "lenName": 16,
    "lenType": 16,
    "lenVar": 40
   },
   "kernels_config": {
    "python": {
     "delete_cmd_postfix": "",
     "delete_cmd_prefix": "del ",
     "library": "var_list.py",
     "varRefreshCmd": "print(var_dic_list())"
    },
    "r": {
     "delete_cmd_postfix": ") ",
     "delete_cmd_prefix": "rm(",
     "library": "var_list.r",
     "varRefreshCmd": "cat(var_dic_list()) "
    }
   },
   "types_to_exclude": [
    "module",
    "function",
    "builtin_function_or_method",
    "instance",
    "_Feature"
   ],
   "window_display": false
  }
 },
 "nbformat": 4,
 "nbformat_minor": 2
}
